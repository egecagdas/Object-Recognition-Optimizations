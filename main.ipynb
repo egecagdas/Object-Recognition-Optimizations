{
 "cells": [
  {
   "cell_type": "markdown",
   "metadata": {},
   "source": [
    "**Dependencies and Constants**"
   ]
  },
  {
   "cell_type": "code",
   "execution_count": 18,
   "metadata": {},
   "outputs": [],
   "source": [
    "import os\n",
    "import cv2\n",
    "from imutils import paths\n",
    "from bs4 import BeautifulSoup as bs\n",
    "\n",
    "BASE_PATH = \"Data/AAU_RainSnow\"\n",
    "EGENSEVEJ_BASE = \"os.path.join(BASE_PATH, 'Egensevej')\"\n",
    "EGENSEVEJ_1 = os.path.join(EGENSEVEJ_BASE, 'Egensevej-1')"
   ]
  },
  {
   "cell_type": "markdown",
   "metadata": {},
   "source": [
    "**Configuration**"
   ]
  },
  {
   "cell_type": "code",
   "execution_count": 14,
   "metadata": {},
   "outputs": [],
   "source": [
    "# selective search \n",
    "MAX_PROPOSALS = 2000\n",
    "MAX_PROPOSALS_INFER = 200\n",
    "\n",
    "MAX_POSITIVE_IMAGES = 30\n",
    "MAX_NEGATIVE_IMAGES = 10\n",
    "\n",
    "INPUT_DIMENSIONS = (256, 256)\n",
    "\n",
    "MODEL_PATH = \"classifier.h5\"\n",
    "ENCODER_PATH = \"label_encoder.pickle\"\n",
    "\n",
    "MIN_PROBABILITY = 0.95"
   ]
  },
  {
   "cell_type": "markdown",
   "metadata": {},
   "source": [
    "**Define Intersection Over Union Method**"
   ]
  },
  {
   "cell_type": "code",
   "execution_count": 15,
   "metadata": {},
   "outputs": [],
   "source": [
    "def compute_iou(boxA, boxB):\n",
    "\t# determine the (x, y)-coordinates of the intersection rectangle\n",
    "\txA = max(boxA[0], boxB[0])\n",
    "\tyA = max(boxA[1], boxB[1])\n",
    "\txB = min(boxA[2], boxB[2])\n",
    "\tyB = min(boxA[3], boxB[3])\n",
    "\t# compute the area of intersection rectangle\n",
    "\tinterArea = max(0, xB - xA + 1) * max(0, yB - yA + 1)\n",
    "\t# compute the area of both the prediction and ground-truth\n",
    "\t# rectangles\n",
    "\tboxAArea = (boxA[2] - boxA[0] + 1) * (boxA[3] - boxA[1] + 1)\n",
    "\tboxBArea = (boxB[2] - boxB[0] + 1) * (boxB[3] - boxB[1] + 1)\n",
    "\t# compute the intersection over union by taking the intersection\n",
    "\t# area and dividing it by the sum of prediction + ground-truth\n",
    "\t# areas - the intersection area\n",
    "\tiou = interArea / float(boxAArea + boxBArea - interArea)\n",
    "\t# return the intersection over union value\n",
    "\treturn iou"
   ]
  },
  {
   "cell_type": "markdown",
   "metadata": {},
   "source": [
    "**Loop over images**"
   ]
  },
  {
   "cell_type": "code",
   "execution_count": 19,
   "metadata": {},
   "outputs": [],
   "source": [
    "imagePaths = paths.list_images(EGENSEVEJ_1)"
   ]
  },
  {
   "cell_type": "code",
   "execution_count": 20,
   "metadata": {},
   "outputs": [],
   "source": [
    "# loop over the image paths\n",
    "for (i, imagePath) in enumerate(imagePaths):\n",
    "\t# show a progress report\n",
    "\tprint(\"[INFO] processing image {}/{}...\".format(i + 1,\n",
    "\t\tlen(imagePaths)))\n",
    "\t# extract the filename from the file path and use it to derive\n",
    "\t# the path to the XML annotation file\n",
    "\tfilename = imagePath.split(os.path.sep)[-1]\n",
    "\tfilename = filename[:filename.rfind(\".\")]\n",
    "\tannotPath = os.path.sep.join([config.ORIG_ANNOTS,\n",
    "\t\t\"{}.xml\".format(filename)])\n",
    "\t# load the annotation file, build the soup, and initialize our\n",
    "\t# list of ground-truth bounding boxes\n",
    "\tcontents = open(annotPath).read()\n",
    "\tsoup = bs(contents, \"html.parser\")\n",
    "\tgtBoxes = []\n",
    "\t# extract the image dimensions\n",
    "\tw = int(soup.find(\"width\").string)\n",
    "\th = int(soup.find(\"height\").string)"
   ]
  }
 ],
 "metadata": {
  "kernelspec": {
   "display_name": "Python 3",
   "language": "python",
   "name": "python3"
  },
  "language_info": {
   "codemirror_mode": {
    "name": "ipython",
    "version": 3
   },
   "file_extension": ".py",
   "mimetype": "text/x-python",
   "name": "python",
   "nbconvert_exporter": "python",
   "pygments_lexer": "ipython3",
   "version": "3.11.9"
  }
 },
 "nbformat": 4,
 "nbformat_minor": 2
}
